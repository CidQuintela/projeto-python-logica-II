{
 "cells": [
  {
   "cell_type": "code",
   "execution_count": 34,
   "metadata": {},
   "outputs": [],
   "source": [
    "import json\n",
    "\n",
    "def readData(path:str = 'alunos.json') -> list[dict]:\n",
    "    try:\n",
    "        with open(path, 'r') as file:           \n",
    "            students = json.load(file) \n",
    "            return students\n",
    "    except FileNotFoundError:\n",
    "        return []\n",
    "\n",
    "\n",
    "#print(readData())\n",
    "\n",
    "#with open('alunos.json', 'r') as file:           \n",
    " # dados = json.load(file) \n",
    "\n"
   ]
  },
  {
   "cell_type": "code",
   "execution_count": 22,
   "metadata": {},
   "outputs": [],
   "source": [
    "def getValue(msg='', func=float):\n",
    "    \n",
    "    while True:\n",
    "        valor = input(msg)\n",
    "        try:\n",
    "            return list(map(func, [valor]))[0]\n",
    "        except ValueError:\n",
    "            msg = f'Entrada Inválida! {msg}'"
   ]
  },
  {
   "cell_type": "code",
   "execution_count": 63,
   "metadata": {},
   "outputs": [
    {
     "name": "stdout",
     "output_type": "stream",
     "text": [
      "[{'Matricula': 1285, 'Nome': 'Janaina Ramos', 'Curso': 'ADS', 'Turno': 'Noite', 'Notas': [8.5]}]\n",
      "[8.5] <class 'list'>\n",
      "[8.5, 8.0] grades\n",
      "{'Matricula': 1285, 'Nome': 'Janaina Ramos', 'Curso': 'ADS', 'Turno': 'Noite', 'Notas': [8.5, 8.0]}\n"
     ]
    }
   ],
   "source": [
    "#Obter Aluno especifico\n",
    "\n",
    "def findStudent(students: list[dict] ) -> list[dict]:\n",
    "  name = getName()\n",
    "  student = list(filter( lambda students: name.title() in students[\"Nome\"] ,students))\n",
    "  if len(student) == 0:\n",
    "    print('Student Not Found!')\n",
    "  return student\n",
    "    \n",
    "\n",
    "# Calcula média dos alunos\n",
    "\n",
    "def calculatesAverage(students: list[dict]) -> list[dict]:\n",
    "  median_list =[]\n",
    "  for dt in dados:\n",
    "    media = sum(dt['Notas'])/4\n",
    "    median_list.append({\"Matricula\":dt[\"Matricula\"],\"Nome\":dt[\"Nome\"],\"Media\":media})\n",
    "    \n",
    "  return(median_list)\n",
    "   \n",
    "\n",
    "# Inserir aluno\n",
    "def getMatricula() -> int:\n",
    "    return getValue('Entre com a Matricula:', func=int)\n",
    "\n",
    "def getName() -> str:\n",
    "    return input('Entre com Nome:').title()\n",
    "\n",
    "def getCurso() -> int:\n",
    "    return input('Entre com Curso: ').upper()\n",
    "\n",
    "def getTurno() -> str:\n",
    "    return input('Entre com Turno: ').title()\n",
    "\n",
    "\n",
    "def insertStudent(students: list[dict]) -> bool:\n",
    "    \n",
    "    students.append({\n",
    "        'Matricula': getMatricula(),\n",
    "        'Nome': getName(),\n",
    "        'Curso': getCurso(),\n",
    "        'Turno': getTurno(),\n",
    "        'Notas':[]\n",
    "    })\n",
    "    \n",
    "    return True\n",
    "\n",
    "\n",
    "#Deleta aluno\n",
    "def deleteStudent(students: list[dict]) -> bool:\n",
    "  deleted = findStudent(students)\n",
    "  print(deleted)\n",
    "\n",
    "  if len(deleted) == 0:\n",
    "    print('Student Not Found!')\n",
    "    return False\n",
    "  students.remove(deleted[0])   \n",
    "  return True\n",
    "\n",
    "\n",
    "#UpdateGrades Aluno\n",
    "def updateGrades(students: list[dict])-> bool:\n",
    "  student = findStudent(students)\n",
    "  print(student)\n",
    "  \n",
    "  if len(student) > 0:\n",
    "    grades = student[0]['Notas']\n",
    "    if len(grades) < 4:\n",
    "       grades.append(float(input(\"Digite a nota\")))\n",
    "       print(grades, \"grades\")\n",
    "       student[0]['Notas'] = grades\n",
    "    else:\n",
    "       print(\"Todas as Notas já foram Lançadas\")\n",
    "    return student[0]  \n",
    "\n"
   ]
  },
  {
   "cell_type": "code",
   "execution_count": 24,
   "metadata": {},
   "outputs": [],
   "source": [
    "opc_func = ['Insert','Delete','UpdateGrades','Find','Average']\n",
    "\n",
    "def choseNameFunction ():\n",
    "    print(\"Escolha a função desejada a realizar\")\n",
    "    funcao = input(opc_func).title()\n",
    "    while not funcao in opc_func:\n",
    "        print(\"Entrada Inválida! , Escolha entre as opções exibidas\")\n",
    "        funcao = input(opc_func).title()\n",
    "    \n",
    "    return funcao\n",
    "\n",
    "\n",
    "dict_func = {\"Insert\":insertStudent, \"Delete\":deleteStudent , \"Find\":findStudent,\"UpdateGrades\":updateGrades ,\"Average\":calculatesAverage }\n"
   ]
  },
  {
   "cell_type": "code",
   "execution_count": 26,
   "metadata": {},
   "outputs": [
    {
     "name": "stdout",
     "output_type": "stream",
     "text": [
      "Escolha a função desejada a realizar\n",
      "Coloque o Nome do Aluno que deseja buscar\n",
      "\n"
     ]
    }
   ],
   "source": [
    "def main ():\n",
    "    dados = readData()\n",
    "    func = choseNameFunction()\n",
    "    print(dict_func[func](dados))\n",
    "        \n",
    "        \n",
    "main()"
   ]
  },
  {
   "cell_type": "code",
   "execution_count": 53,
   "metadata": {},
   "outputs": [
    {
     "name": "stdout",
     "output_type": "stream",
     "text": [
      "[{'Matricula': '0125', 'Nome': 'Felipe Fernandes', 'Curso': 'ADS', 'Turno': 'Noite', 'Notas': [9.5, 8.0, 7.0, 8.0]}, {'Matricula': '0128', 'Nome': 'Paulo De Castro', 'Curso': 'ADS', 'Turno': 'Noite', 'Notas': [5.0, 10.0, 4.0, 6.0]}, {'Matricula': '0129', 'Nome': 'Aline de Paula', 'Curso': 'ADS', 'Turno': 'Noite', 'Notas': [7.0, 5.0, 0.0, 10.0]}, {'Matricula': '0130', 'Nome': 'Clarice Oliveira', 'Curso': 'ADS', 'Turno': 'Noite', 'Notas': [9.0, 3.0, 6.5, 8.0]}, {'Matricula': '0131', 'Nome': 'Carlos Henrique', 'Curso': 'ADMINISTRACAO', 'Turno': 'Manha', 'Notas': [6.0, 8.0, 7.0, 8.0]}, {'Matricula': '0132', 'Nome': 'Marcos de Souza', 'Curso': 'MARKETING', 'Turno': 'Noite', 'Notas': [8.5, 8.0, 7.0, 5.0]}, {'Matricula': '0133', 'Nome': 'Pedro Ferraz', 'Curso': 'ADS', 'Turno': 'Manha', 'Notas': [9.5, 10.0, 7.0, 6.0]}, {'Matricula': '0134', 'Nome': 'Josy Ricco', 'Curso': 'DIREITO', 'Turno': 'Noite', 'Notas': [0.0, 5.0, 3.0, 6.0]}, {'Matricula': '0135', 'Nome': 'Maria Fernanda', 'Curso': 'ENGENHARIA DE PRODUCAO', 'Turno': 'Manha', 'Notas': [7.5, 9.0, 7.0, 7.0]}, {'Matricula': '0136', 'Nome': 'Fabiola de Souza', 'Curso': 'ADMINISTRACAO', 'Turno': 'Noite', 'Notas': [9.0, 8.0, 8.0, 6.0]}, {'Matricula': '0124', 'Nome': 'Pedro Matheus', 'Curso': 'DIREITO', 'Turno': 'Noite', 'Notas': [8.0, 8.0, 7.0, 8.0]}, {'Matricula': '0123', 'Nome': 'Mateus Felipe', 'Curso': 'BANCO DE DADOS', 'Turno': 'Noite', 'Notas': [7.5, 8.0, 7.0, 8.0]}, {'Matricula': '0122', 'Nome': 'Enzo Ferraz', 'Curso': 'BANCO DE DADOS', 'Turno': 'Manha', 'Notas': [9.0, 8.0, 7.0, 8.0]}, {'Matricula': '0121', 'Nome': 'Paulo Cardoso', 'Curso': 'BANCO DE DADOS', 'Turno': 'Noite', 'Notas': [6.0, 8.0, 7.0, 8.0]}, {'Matricula': '0137', 'Nome': 'Fernanda Nogueira', 'Curso': 'ADMINISTRACAO', 'Turno': 'Noite', 'Notas': [8.0, 7.5, 5.0, 9.0]}, {'Matricula': '0138', 'Nome': 'Luciano de Paula', 'Curso': 'GAMES', 'Turno': 'Noite', 'Notas': [7.5, 4.5, 5.0, 10.0]}, {'Matricula': '0139', 'Nome': 'Kaique Rodrigues', 'Curso': 'GAMES', 'Turno': 'Noite', 'Notas': [10.0, 8.0, 7.0, 9.0]}, {'Matricula': '0140', 'Nome': 'Joao de Deus', 'Curso': 'ENGENHARIA DE PRODUCAO', 'Turno': 'Noite', 'Notas': [9.5, 8.5, 6.0, 8.0]}, {'Matricula': '0141', 'Nome': 'Andressa Ferraz ', 'Curso': 'ADS', 'Turno': 'Noite', 'Notas': [8.0, 8.0, 7.0, 0.0]}, {'Matricula': '0142', 'Nome': 'Felipe Alcantara', 'Curso': 'ADS', 'Turno': 'Noite', 'Notas': [8.5, 8.0, 7.0, 8.0]}, {'Matricula': 1285, 'Nome': 'Janaina Ramos', 'Curso': 'ADS', 'Turno': 'Noite', 'Notas': []}]\n"
     ]
    }
   ],
   "source": [
    "#print(dados)"
   ]
  }
 ],
 "metadata": {
  "kernelspec": {
   "display_name": "Python 3",
   "language": "python",
   "name": "python3"
  },
  "language_info": {
   "codemirror_mode": {
    "name": "ipython",
    "version": 3
   },
   "file_extension": ".py",
   "mimetype": "text/x-python",
   "name": "python",
   "nbconvert_exporter": "python",
   "pygments_lexer": "ipython3",
   "version": "3.11.4"
  }
 },
 "nbformat": 4,
 "nbformat_minor": 2
}
